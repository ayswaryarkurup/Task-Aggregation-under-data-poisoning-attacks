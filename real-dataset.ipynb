{
 "cells": [
  {
   "cell_type": "code",
   "execution_count": 40,
   "metadata": {},
   "outputs": [],
   "source": [
    "import main"
   ]
  },
  {
   "cell_type": "markdown",
   "metadata": {},
   "source": [
    "dataset ('NLP' or 'DOG'):"
   ]
  },
  {
   "cell_type": "code",
   "execution_count": 41,
   "metadata": {},
   "outputs": [],
   "source": [
    "dataset = 'NLP'"
   ]
  },
  {
   "cell_type": "markdown",
   "metadata": {},
   "source": [
    "number of test runs:"
   ]
  },
  {
   "cell_type": "code",
   "execution_count": 42,
   "metadata": {},
   "outputs": [],
   "source": [
    "run_num = 50"
   ]
  },
  {
   "cell_type": "markdown",
   "metadata": {},
   "source": [
    "condition for terminating a batch:"
   ]
  },
  {
   "cell_type": "code",
   "execution_count": 43,
   "metadata": {},
   "outputs": [],
   "source": [
    "B = 10"
   ]
  },
  {
   "cell_type": "markdown",
   "metadata": {},
   "source": [
    "probability to assign a golden task to a new worker:"
   ]
  },
  {
   "cell_type": "code",
   "execution_count": 44,
   "metadata": {},
   "outputs": [],
   "source": [
    "alpha = 0.5"
   ]
  },
  {
   "cell_type": "raw",
   "metadata": {},
   "source": [
    "Trust score threshold for banning workers:"
   ]
  },
  {
   "cell_type": "code",
   "execution_count": 45,
   "metadata": {},
   "outputs": [],
   "source": [
    "tau = 0.1"
   ]
  },
  {
   "cell_type": "markdown",
   "metadata": {},
   "source": [
    "reliability threshold for marking reliable workers:"
   ]
  },
  {
   "cell_type": "code",
   "execution_count": 46,
   "metadata": {},
   "outputs": [],
   "source": [
    "delta = 1"
   ]
  },
  {
   "cell_type": "markdown",
   "metadata": {},
   "source": [
    "percentage of malicious workers:"
   ]
  },
  {
   "cell_type": "code",
   "execution_count": 47,
   "metadata": {},
   "outputs": [],
   "source": [
    "mu = 0.5"
   ]
  },
  {
   "cell_type": "markdown",
   "metadata": {},
   "source": [
    "probability for malicious workers to deviate from sharing:"
   ]
  },
  {
   "cell_type": "code",
   "execution_count": 48,
   "metadata": {},
   "outputs": [],
   "source": [
    "epsilon = 0.1"
   ]
  },
  {
   "cell_type": "markdown",
   "metadata": {},
   "source": [
    "number of attackers:"
   ]
  },
  {
   "cell_type": "code",
   "execution_count": 49,
   "metadata": {},
   "outputs": [],
   "source": [
    "lambd = 1"
   ]
  },
  {
   "cell_type": "code",
   "execution_count": 50,
   "metadata": {
    "scrolled": true
   },
   "outputs": [
    {
     "name": "stdout",
     "output_type": "stream",
     "text": [
      "Run 1 --- A-Accuracy:0.566  E-Number:0  T-Cost:4.552941176470588  Time:409.99603271484375ms\n",
      "Run 2 --- A-Accuracy:0.587  E-Number:0  T-Cost:4.705882352941177  Time:507.52997398376465ms\n",
      "Run 3 --- A-Accuracy:0.528  E-Number:0  T-Cost:3.6  Time:278.8660526275635ms\n",
      "Run 4 --- A-Accuracy:0.559  E-Number:0  T-Cost:4.3882352941176475  Time:330.4598331451416ms\n",
      "Run 5 --- A-Accuracy:0.547  E-Number:0  T-Cost:4.352941176470588  Time:444.9751377105713ms\n",
      "Run 6 --- A-Accuracy:0.713  E-Number:0  T-Cost:4.705882352941177  Time:790.734052658081ms\n",
      "Run 7 --- A-Accuracy:0.562  E-Number:0  T-Cost:4.294117647058823  Time:408.38098526000977ms\n",
      "Run 8 --- A-Accuracy:0.596  E-Number:0  T-Cost:4.705882352941177  Time:784.8198413848877ms\n",
      "Run 9 --- A-Accuracy:0.601  E-Number:0  T-Cost:4.705882352941177  Time:647.7940082550049ms\n",
      "Run 10 --- A-Accuracy:0.627  E-Number:0  T-Cost:4.705882352941177  Time:1054.677963256836ms\n",
      "Run 11 --- A-Accuracy:0.66  E-Number:0  T-Cost:4.705882352941177  Time:677.649974822998ms\n",
      "Run 12 --- A-Accuracy:0.657  E-Number:0  T-Cost:4.705882352941177  Time:613.6999130249023ms\n",
      "Run 13 --- A-Accuracy:0.64  E-Number:0  T-Cost:4.705882352941177  Time:796.381950378418ms\n",
      "Run 14 --- A-Accuracy:0.694  E-Number:0  T-Cost:4.705882352941177  Time:924.2780208587646ms\n",
      "Run 15 --- A-Accuracy:0.601  E-Number:0  T-Cost:4.705882352941177  Time:767.5681114196777ms\n",
      "Run 16 --- A-Accuracy:0.536  E-Number:0  T-Cost:3.2823529411764705  Time:128.2188892364502ms\n",
      "Run 17 --- A-Accuracy:0.825  E-Number:0  T-Cost:4.705882352941177  Time:954.2140960693359ms\n",
      "Run 18 --- A-Accuracy:0.539  E-Number:0  T-Cost:4.364705882352941  Time:377.7658939361572ms\n",
      "Run 19 --- A-Accuracy:0.583  E-Number:0  T-Cost:4.6  Time:514.7960186004639ms\n",
      "Run 20 --- A-Accuracy:0.643  E-Number:0  T-Cost:4.705882352941177  Time:782.6859951019287ms\n",
      "Run 21 --- A-Accuracy:0.74  E-Number:0  T-Cost:4.564705882352941  Time:608.0238819122314ms\n",
      "Run 22 --- A-Accuracy:0.599  E-Number:0  T-Cost:4.705882352941177  Time:611.6490364074707ms\n",
      "Run 23 --- A-Accuracy:0.583  E-Number:0  T-Cost:4.176470588235294  Time:444.0739154815674ms\n",
      "Run 24 --- A-Accuracy:0.553  E-Number:0  T-Cost:4.1647058823529415  Time:220.07989883422852ms\n",
      "Run 25 --- A-Accuracy:0.584  E-Number:0  T-Cost:4.658823529411765  Time:697.6768970489502ms\n",
      "Run 26 --- A-Accuracy:0.57  E-Number:0  T-Cost:4.1647058823529415  Time:282.703161239624ms\n",
      "Run 27 --- A-Accuracy:0.566  E-Number:0  T-Cost:4.352941176470588  Time:368.75104904174805ms\n",
      "Run 28 --- A-Accuracy:0.578  E-Number:0  T-Cost:4.176470588235294  Time:467.20409393310547ms\n",
      "Run 29 --- A-Accuracy:0.586  E-Number:0  T-Cost:4.235294117647059  Time:429.440975189209ms\n",
      "Run 30 --- A-Accuracy:0.606  E-Number:0  T-Cost:4.6117647058823525  Time:530.6718349456787ms\n",
      "Run 31 --- A-Accuracy:0.528  E-Number:0  T-Cost:4.0588235294117645  Time:269.36984062194824ms\n",
      "Run 32 --- A-Accuracy:0.533  E-Number:0  T-Cost:4.376470588235295  Time:252.64406204223633ms\n",
      "Run 33 --- A-Accuracy:0.582  E-Number:0  T-Cost:3.7294117647058824  Time:230.2408218383789ms\n",
      "Run 34 --- A-Accuracy:0.563  E-Number:0  T-Cost:3.8  Time:279.1249752044678ms\n",
      "Run 35 --- A-Accuracy:0.56  E-Number:0  T-Cost:4.4  Time:281.080961227417ms\n",
      "Run 36 --- A-Accuracy:0.737  E-Number:0  T-Cost:4.705882352941177  Time:623.5289573669434ms\n",
      "Run 37 --- A-Accuracy:0.569  E-Number:0  T-Cost:4.694117647058824  Time:636.8269920349121ms\n",
      "Run 38 --- A-Accuracy:0.572  E-Number:0  T-Cost:4.705882352941177  Time:714.1361236572266ms\n",
      "Run 39 --- A-Accuracy:0.615  E-Number:0  T-Cost:3.6588235294117646  Time:227.8280258178711ms\n",
      "Run 40 --- A-Accuracy:0.532  E-Number:0  T-Cost:4.317647058823529  Time:386.48009300231934ms\n",
      "Run 41 --- A-Accuracy:0.547  E-Number:0  T-Cost:4.023529411764706  Time:285.1371765136719ms\n",
      "Run 42 --- A-Accuracy:0.601  E-Number:0  T-Cost:4.705882352941177  Time:587.6410007476807ms\n",
      "Run 43 --- A-Accuracy:0.563  E-Number:0  T-Cost:4.376470588235295  Time:521.3561058044434ms\n",
      "Run 44 --- A-Accuracy:0.702  E-Number:0  T-Cost:4.705882352941177  Time:890.5999660491943ms\n",
      "Run 45 --- A-Accuracy:0.58  E-Number:0  T-Cost:3.611764705882353  Time:335.7880115509033ms\n",
      "Run 46 --- A-Accuracy:0.537  E-Number:0  T-Cost:4.623529411764705  Time:395.34711837768555ms\n",
      "Run 47 --- A-Accuracy:0.59  E-Number:0  T-Cost:4.423529411764706  Time:412.2960567474365ms\n",
      "Run 48 --- A-Accuracy:0.561  E-Number:0  T-Cost:4.576470588235294  Time:540.9131050109863ms\n",
      "Run 49 --- A-Accuracy:0.536  E-Number:0  T-Cost:4.376470588235295  Time:277.83203125ms\n",
      "Run 50 --- A-Accuracy:0.59  E-Number:0  T-Cost:4.705882352941177  Time:573.5149383544922ms\n",
      "\n",
      "Average: \n",
      "A-Accuracy: 0.5965399999999998  Standard Error: 0.008839854556011004\n",
      "E-Number:0.0  Standard Error: 0.0\n",
      "T-cost:4.405882352941178  Standard Error: 0.051284744234254886\n",
      "Time:511.5490770339966ms  Standard Error: 31\n"
     ]
    }
   ],
   "source": [
    "main.main([dataset, str(run_num), str(B), str(alpha), str(tau), str(delta), str(mu), str(epsilon), str(lambd)])"
   ]
  },
  {
   "cell_type": "code",
   "execution_count": null,
   "metadata": {},
   "outputs": [],
   "source": []
  },
  {
   "cell_type": "code",
   "execution_count": null,
   "metadata": {},
   "outputs": [],
   "source": []
  }
 ],
 "metadata": {
  "kernelspec": {
   "display_name": "Python 3",
   "language": "python",
   "name": "python3"
  },
  "language_info": {
   "codemirror_mode": {
    "name": "ipython",
    "version": 3
   },
   "file_extension": ".py",
   "mimetype": "text/x-python",
   "name": "python",
   "nbconvert_exporter": "python",
   "pygments_lexer": "ipython3",
   "version": "3.7.6"
  }
 },
 "nbformat": 4,
 "nbformat_minor": 5
}
